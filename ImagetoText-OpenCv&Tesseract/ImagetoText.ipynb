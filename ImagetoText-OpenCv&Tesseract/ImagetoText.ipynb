{
 "cells": [
  {
   "cell_type": "code",
   "execution_count": 1,
   "id": "583add53",
   "metadata": {},
   "outputs": [
    {
     "name": "stdout",
     "output_type": "stream",
     "text": [
      "Collecting opencv-contrib-python\n",
      "  Downloading opencv_contrib_python-4.8.1.78-cp37-abi3-win_amd64.whl (44.8 MB)\n",
      "Requirement already satisfied: numpy>=1.17.3 in c:\\users\\hp\\anaconda3\\lib\\site-packages (from opencv-contrib-python) (1.20.1)\n",
      "Installing collected packages: opencv-contrib-python\n",
      "Successfully installed opencv-contrib-python-4.8.1.78\n"
     ]
    }
   ],
   "source": [
    "! pip install opencv-contrib-python"
   ]
  },
  {
   "cell_type": "code",
   "execution_count": 3,
   "id": "086cbbd9",
   "metadata": {},
   "outputs": [
    {
     "name": "stdout",
     "output_type": "stream",
     "text": [
      "Collecting pytesseract\n",
      "  Downloading pytesseract-0.3.10-py3-none-any.whl (14 kB)\n",
      "Collecting packaging>=21.3\n",
      "  Downloading packaging-23.2-py3-none-any.whl (53 kB)\n",
      "Requirement already satisfied: Pillow>=8.0.0 in c:\\users\\hp\\anaconda3\\lib\\site-packages (from pytesseract) (8.2.0)\n",
      "Installing collected packages: packaging, pytesseract\n",
      "  Attempting uninstall: packaging\n",
      "    Found existing installation: packaging 20.9\n",
      "    Uninstalling packaging-20.9:\n",
      "      Successfully uninstalled packaging-20.9\n",
      "Successfully installed packaging-23.2 pytesseract-0.3.10\n"
     ]
    }
   ],
   "source": [
    "! pip install pytesseract"
   ]
  },
  {
   "cell_type": "code",
   "execution_count": 6,
   "id": "944d0844",
   "metadata": {},
   "outputs": [],
   "source": [
    "from PIL import Image\n",
    "import pytesseract"
   ]
  },
  {
   "cell_type": "code",
   "execution_count": 9,
   "id": "b54b1947",
   "metadata": {},
   "outputs": [
    {
     "name": "stdout",
     "output_type": "stream",
     "text": [
      "1. Almonds\n",
      "\n",
      "There are a lot of health benefits associated with almonds.\n",
      "Almonds are very high in vitamin E and protein as well as\n",
      "other nutrients such as magnesium and phosphorus. Almonds\n",
      "contain anti-cancer properties as well. Whether almonds are\n",
      "best raw or pasteurized is still a source of heated debate.\n",
      "\n"
     ]
    }
   ],
   "source": [
    "# If you don't have tesseract executable in your PATH, include the following:\n",
    "pytesseract.pytesseract.tesseract_cmd = r'C:\\Program Files\\Tesseract-OCR\\tesseract'\n",
    "\n",
    "print(pytesseract.image_to_string(Image.open('ocr-sample2.png')))"
   ]
  },
  {
   "cell_type": "code",
   "execution_count": 10,
   "id": "d0f8afee",
   "metadata": {},
   "outputs": [
    {
     "name": "stdout",
     "output_type": "stream",
     "text": [
      "['eng', 'osd']\n"
     ]
    }
   ],
   "source": [
    "print(pytesseract.get_languages(config=''))"
   ]
  },
  {
   "cell_type": "code",
   "execution_count": 11,
   "id": "83e6083f",
   "metadata": {},
   "outputs": [
    {
     "name": "stdout",
     "output_type": "stream",
     "text": [
      "This is a handwritten\n",
      "example\n",
      "\n",
      "Write as qooal as you can.\n",
      "\n"
     ]
    }
   ],
   "source": [
    "print(pytesseract.image_to_string(r'Sample-handwritten-text-input-for-OCR.png'))"
   ]
  },
  {
   "cell_type": "code",
   "execution_count": 13,
   "id": "1522aeee",
   "metadata": {},
   "outputs": [
    {
     "name": "stdout",
     "output_type": "stream",
     "text": [
      "A\n",
      "\n",
      "Hid\n",
      "ba\n",
      "\n",
      "4\n",
      "Hi\n",
      "\n"
     ]
    }
   ],
   "source": [
    "print(pytesseract.image_to_string('images.jpeg'))"
   ]
  },
  {
   "cell_type": "code",
   "execution_count": 15,
   "id": "3b573242",
   "metadata": {},
   "outputs": [
    {
     "name": "stdout",
     "output_type": "stream",
     "text": [
      "\n"
     ]
    }
   ],
   "source": [
    "print(pytesseract.image_to_string('image2.jpeg'))"
   ]
  },
  {
   "cell_type": "code",
   "execution_count": 16,
   "id": "7581b50f",
   "metadata": {},
   "outputs": [],
   "source": [
    "# save a pdf version of image file\n",
    "pdf = pytesseract.image_to_pdf_or_hocr('images.jpeg', extension='pdf')\n",
    "with open('images.pdf','w+b') as f:\n",
    "    f.write(pdf)"
   ]
  },
  {
   "cell_type": "markdown",
   "id": "ca154e8c",
   "metadata": {},
   "source": [
    "https://github.com/madmaze/pytesseract?ref=nanonets.com"
   ]
  }
 ],
 "metadata": {
  "kernelspec": {
   "display_name": "Python 3",
   "language": "python",
   "name": "python3"
  },
  "language_info": {
   "codemirror_mode": {
    "name": "ipython",
    "version": 3
   },
   "file_extension": ".py",
   "mimetype": "text/x-python",
   "name": "python",
   "nbconvert_exporter": "python",
   "pygments_lexer": "ipython3",
   "version": "3.8.8"
  }
 },
 "nbformat": 4,
 "nbformat_minor": 5
}
